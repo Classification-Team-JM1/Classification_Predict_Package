{
 "cells": [
  {
   "cell_type": "markdown",
   "metadata": {},
   "source": [
    "## Table of Contents"
   ]
  },
  {
   "cell_type": "markdown",
   "metadata": {},
   "source": [
    "## Start with the problem\n",
    "problem Identification/problem statement"
   ]
  },
  {
   "cell_type": "markdown",
   "metadata": {},
   "source": [
    "## Introduction"
   ]
  },
  {
   "cell_type": "markdown",
   "metadata": {},
   "source": [
    "## Import Useful Libraries"
   ]
  },
  {
   "cell_type": "markdown",
   "metadata": {},
   "source": [
    "## Getting the Data"
   ]
  },
  {
   "cell_type": "markdown",
   "metadata": {},
   "source": [
    "## Cleaning Data\n",
    "Common data cleaning steps\n",
    "1. Make text lowercase\n",
    "2. Remove punctuations\n",
    "3. Remove numerical Values\n",
    "4. Remove unnecesary parts of text such as characters \n",
    "5. vector hyperparameter(Maximum word frequency and minimum word frequency), this help us identify typos,irrelavant words and words that are not good indicators of difference in tweets\n",
    "6. Tokenize text(splitting text into smaller pieces)\n",
    "7. remove stop words\n",
    "8. ????????????????????and many more\n",
    "\n",
    "other data cleaning steps after tokenization\n",
    "1. stemming/lemmatizing\n",
    "2. Parts of speech tagging\n",
    "3. ??????and many more\n",
    "\n",
    "\n"
   ]
  },
  {
   "cell_type": "markdown",
   "metadata": {},
   "source": [
    "## Orginising Data\n",
    "corpus=a collection of text or \n",
    "Document term Matrix=put into matrix so a machine could read it(???????????? not sure if this applies to every text data. what we know is that the order does not matter here, will using this affect our data and model accuracy????/)\n"
   ]
  },
  {
   "cell_type": "markdown",
   "metadata": {},
   "source": [
    "## EDA\n",
    "1. Summarise the main characteristics of data\n",
    "2. use visual methods\n",
    "3. figure out the main trends in the data and identify if it makes sense\n",
    "4. what are some ways we can think of to explore our data?\n",
    "5. can we further clean the data?\n",
    "6. Insights\n"
   ]
  },
  {
   "cell_type": "markdown",
   "metadata": {},
   "source": [
    "## Model training and testing"
   ]
  },
  {
   "cell_type": "markdown",
   "metadata": {},
   "source": [
    "## Prediction"
   ]
  },
  {
   "cell_type": "markdown",
   "metadata": {},
   "source": [
    "## Evaluate model accuracy\n",
    "Confusion matrix"
   ]
  },
  {
   "cell_type": "markdown",
   "metadata": {},
   "source": [
    "## Results and Discussion"
   ]
  },
  {
   "cell_type": "markdown",
   "metadata": {},
   "source": [
    "## Conclusion and Recommendations"
   ]
  },
  {
   "cell_type": "markdown",
   "metadata": {},
   "source": [
    "## References"
   ]
  },
  {
   "cell_type": "code",
   "execution_count": null,
   "metadata": {},
   "outputs": [],
   "source": []
  }
 ],
 "metadata": {
  "kernelspec": {
   "display_name": "Python 3",
   "language": "python",
   "name": "python3"
  },
  "language_info": {
   "codemirror_mode": {
    "name": "ipython",
    "version": 3
   },
   "file_extension": ".py",
   "mimetype": "text/x-python",
   "name": "python",
   "nbconvert_exporter": "python",
   "pygments_lexer": "ipython3",
   "version": "3.7.6"
  }
 },
 "nbformat": 4,
 "nbformat_minor": 4
}
